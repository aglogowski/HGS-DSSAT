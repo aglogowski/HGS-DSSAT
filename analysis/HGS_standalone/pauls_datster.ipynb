{
 "cells": [
  {
   "cell_type": "code",
   "execution_count": 1,
   "id": "96a33383",
   "metadata": {},
   "outputs": [],
   "source": [
    "import datster as da"
   ]
  },
  {
   "cell_type": "code",
   "execution_count": 5,
   "id": "a505841b",
   "metadata": {},
   "outputs": [
    {
     "name": "stderr",
     "output_type": "stream",
     "text": [
      "<>:1: SyntaxWarning: invalid escape sequence '\\h'\n",
      "<>:1: SyntaxWarning: invalid escape sequence '\\h'\n",
      "C:\\Users\\glogow0000\\AppData\\Local\\Temp\\ipykernel_23932\\647109490.py:1: SyntaxWarning: invalid escape sequence '\\h'\n",
      "  da.read_obs_well_sat_dat(file_path=\"C:\\\\Users\\\\glogow0000\\\\HGS-DSSAT\\\\model\\\\HGS\\\\stand_alone\\\\lys\\hgs\\\\lys_Eo.observation_well_flow.sat_prof.dat\",\n",
      "C:\\Users\\glogow0000\\AppData\\Local\\Temp\\ipykernel_23932\\647109490.py:1: SyntaxWarning: invalid escape sequence '\\h'\n",
      "  da.read_obs_well_sat_dat(file_path=\"C:\\\\Users\\\\glogow0000\\\\HGS-DSSAT\\\\model\\\\HGS\\\\stand_alone\\\\lys\\hgs\\\\lys_Eo.observation_well_flow.sat_prof.dat\",\n",
      "C:\\Users\\glogow0000\\AppData\\Roaming\\Python\\Python312\\site-packages\\datster\\reader.py:15: SyntaxWarning: invalid escape sequence '\\s'\n",
      "  df = pd.read_csv(file_path, sep='\\s+', skiprows = 19, names = ['Time','OLF','PM','Total'])\n",
      "C:\\Users\\glogow0000\\AppData\\Roaming\\Python\\Python312\\site-packages\\datster\\reader.py:70: SyntaxWarning: invalid escape sequence '\\s'\n",
      "  df = pd.read_csv(file_path, sep='\\s+', skiprows = sk, nrows = i, names = names)\n",
      "C:\\Users\\glogow0000\\AppData\\Roaming\\Python\\Python312\\site-packages\\datster\\reader.py:128: SyntaxWarning: invalid escape sequence '\\s'\n",
      "  df = pd.read_csv(file_path, sep='\\s+', skiprows = sk, nrows = i, names = [names[2],names[12]], usecols = [2,12])\n",
      "C:\\Users\\glogow0000\\AppData\\Roaming\\Python\\Python312\\site-packages\\datster\\reader.py:183: SyntaxWarning: invalid escape sequence '\\s'\n",
      "  df = pd.read_csv(file_path, sep='\\s+', skiprows = sk, names = names)\n"
     ]
    },
    {
     "ename": "ValueError",
     "evalue": "Error reading file C:\\Users\\glogow0000\\HGS-DSSAT\\model\\HGS\\stand_alone\\lys\\hgs\\lys_Eo.observation_well_flow.sat_prof.dat: 'Z'",
     "output_type": "error",
     "traceback": [
      "\u001b[1;31m---------------------------------------------------------------------------\u001b[0m",
      "\u001b[1;31mKeyError\u001b[0m                                  Traceback (most recent call last)",
      "File \u001b[1;32mc:\\ProgramData\\anaconda3\\Lib\\site-packages\\pandas\\core\\indexes\\base.py:3805\u001b[0m, in \u001b[0;36mIndex.get_loc\u001b[1;34m(self, key)\u001b[0m\n\u001b[0;32m   3804\u001b[0m \u001b[38;5;28;01mtry\u001b[39;00m:\n\u001b[1;32m-> 3805\u001b[0m     \u001b[38;5;28;01mreturn\u001b[39;00m \u001b[38;5;28mself\u001b[39m\u001b[38;5;241m.\u001b[39m_engine\u001b[38;5;241m.\u001b[39mget_loc(casted_key)\n\u001b[0;32m   3806\u001b[0m \u001b[38;5;28;01mexcept\u001b[39;00m \u001b[38;5;167;01mKeyError\u001b[39;00m \u001b[38;5;28;01mas\u001b[39;00m err:\n",
      "File \u001b[1;32mindex.pyx:167\u001b[0m, in \u001b[0;36mpandas._libs.index.IndexEngine.get_loc\u001b[1;34m()\u001b[0m\n",
      "File \u001b[1;32mindex.pyx:196\u001b[0m, in \u001b[0;36mpandas._libs.index.IndexEngine.get_loc\u001b[1;34m()\u001b[0m\n",
      "File \u001b[1;32mpandas\\\\_libs\\\\hashtable_class_helper.pxi:7081\u001b[0m, in \u001b[0;36mpandas._libs.hashtable.PyObjectHashTable.get_item\u001b[1;34m()\u001b[0m\n",
      "File \u001b[1;32mpandas\\\\_libs\\\\hashtable_class_helper.pxi:7089\u001b[0m, in \u001b[0;36mpandas._libs.hashtable.PyObjectHashTable.get_item\u001b[1;34m()\u001b[0m\n",
      "\u001b[1;31mKeyError\u001b[0m: 'Z'",
      "\nThe above exception was the direct cause of the following exception:\n",
      "\u001b[1;31mKeyError\u001b[0m                                  Traceback (most recent call last)",
      "File \u001b[1;32m~\\AppData\\Roaming\\Python\\Python312\\site-packages\\datster\\reader.py:129\u001b[0m, in \u001b[0;36mread_obs_well_sat_dat\u001b[1;34m(file_path, print_t)\u001b[0m\n\u001b[0;32m    128\u001b[0m df \u001b[38;5;241m=\u001b[39m pd\u001b[38;5;241m.\u001b[39mread_csv(file_path, sep\u001b[38;5;241m=\u001b[39m\u001b[38;5;124m'\u001b[39m\u001b[38;5;124m\\\u001b[39m\u001b[38;5;124ms+\u001b[39m\u001b[38;5;124m'\u001b[39m, skiprows \u001b[38;5;241m=\u001b[39m sk, nrows \u001b[38;5;241m=\u001b[39m i, names \u001b[38;5;241m=\u001b[39m [names[\u001b[38;5;241m2\u001b[39m],names[\u001b[38;5;241m12\u001b[39m]], usecols \u001b[38;5;241m=\u001b[39m [\u001b[38;5;241m2\u001b[39m,\u001b[38;5;241m12\u001b[39m])\n\u001b[1;32m--> 129\u001b[0m stor[time] \u001b[38;5;241m=\u001b[39m (df[\u001b[38;5;124m'\u001b[39m\u001b[38;5;124mWater Saturation\u001b[39m\u001b[38;5;124m'\u001b[39m]\u001b[38;5;241m.\u001b[39mvalues,df[\u001b[38;5;124m'\u001b[39m\u001b[38;5;124mZ\u001b[39m\u001b[38;5;124m'\u001b[39m]\u001b[38;5;241m.\u001b[39mvalues)\n\u001b[0;32m    130\u001b[0m last_t \u001b[38;5;241m=\u001b[39m time\n",
      "File \u001b[1;32mc:\\ProgramData\\anaconda3\\Lib\\site-packages\\pandas\\core\\frame.py:4102\u001b[0m, in \u001b[0;36mDataFrame.__getitem__\u001b[1;34m(self, key)\u001b[0m\n\u001b[0;32m   4101\u001b[0m     \u001b[38;5;28;01mreturn\u001b[39;00m \u001b[38;5;28mself\u001b[39m\u001b[38;5;241m.\u001b[39m_getitem_multilevel(key)\n\u001b[1;32m-> 4102\u001b[0m indexer \u001b[38;5;241m=\u001b[39m \u001b[38;5;28mself\u001b[39m\u001b[38;5;241m.\u001b[39mcolumns\u001b[38;5;241m.\u001b[39mget_loc(key)\n\u001b[0;32m   4103\u001b[0m \u001b[38;5;28;01mif\u001b[39;00m is_integer(indexer):\n",
      "File \u001b[1;32mc:\\ProgramData\\anaconda3\\Lib\\site-packages\\pandas\\core\\indexes\\base.py:3812\u001b[0m, in \u001b[0;36mIndex.get_loc\u001b[1;34m(self, key)\u001b[0m\n\u001b[0;32m   3811\u001b[0m         \u001b[38;5;28;01mraise\u001b[39;00m InvalidIndexError(key)\n\u001b[1;32m-> 3812\u001b[0m     \u001b[38;5;28;01mraise\u001b[39;00m \u001b[38;5;167;01mKeyError\u001b[39;00m(key) \u001b[38;5;28;01mfrom\u001b[39;00m \u001b[38;5;21;01merr\u001b[39;00m\n\u001b[0;32m   3813\u001b[0m \u001b[38;5;28;01mexcept\u001b[39;00m \u001b[38;5;167;01mTypeError\u001b[39;00m:\n\u001b[0;32m   3814\u001b[0m     \u001b[38;5;66;03m# If we have a listlike key, _check_indexing_error will raise\u001b[39;00m\n\u001b[0;32m   3815\u001b[0m     \u001b[38;5;66;03m#  InvalidIndexError. Otherwise we fall through and re-raise\u001b[39;00m\n\u001b[0;32m   3816\u001b[0m     \u001b[38;5;66;03m#  the TypeError.\u001b[39;00m\n",
      "\u001b[1;31mKeyError\u001b[0m: 'Z'",
      "\nDuring handling of the above exception, another exception occurred:\n",
      "\u001b[1;31mValueError\u001b[0m                                Traceback (most recent call last)",
      "Cell \u001b[1;32mIn[5], line 1\u001b[0m\n\u001b[1;32m----> 1\u001b[0m da\u001b[38;5;241m.\u001b[39mread_obs_well_sat_dat(file_path\u001b[38;5;241m=\u001b[39m\u001b[38;5;124m\"\u001b[39m\u001b[38;5;124mC:\u001b[39m\u001b[38;5;130;01m\\\\\u001b[39;00m\u001b[38;5;124mUsers\u001b[39m\u001b[38;5;130;01m\\\\\u001b[39;00m\u001b[38;5;124mglogow0000\u001b[39m\u001b[38;5;130;01m\\\\\u001b[39;00m\u001b[38;5;124mHGS-DSSAT\u001b[39m\u001b[38;5;130;01m\\\\\u001b[39;00m\u001b[38;5;124mmodel\u001b[39m\u001b[38;5;130;01m\\\\\u001b[39;00m\u001b[38;5;124mHGS\u001b[39m\u001b[38;5;130;01m\\\\\u001b[39;00m\u001b[38;5;124mstand_alone\u001b[39m\u001b[38;5;130;01m\\\\\u001b[39;00m\u001b[38;5;124mlys\u001b[39m\u001b[38;5;124m\\\u001b[39m\u001b[38;5;124mhgs\u001b[39m\u001b[38;5;130;01m\\\\\u001b[39;00m\u001b[38;5;124mlys_Eo.observation_well_flow.sat_prof.dat\u001b[39m\u001b[38;5;124m\"\u001b[39m,\n\u001b[0;32m      2\u001b[0m                          print_t\u001b[38;5;241m=\u001b[39m\u001b[38;5;241m1\u001b[39m)\n",
      "File \u001b[1;32m~\\AppData\\Roaming\\Python\\Python312\\site-packages\\datster\\reader.py:135\u001b[0m, in \u001b[0;36mread_obs_well_sat_dat\u001b[1;34m(file_path, print_t)\u001b[0m\n\u001b[0;32m    132\u001b[0m     \u001b[38;5;28;01mreturn\u001b[39;00m stor\n\u001b[0;32m    134\u001b[0m \u001b[38;5;28;01mexcept\u001b[39;00m \u001b[38;5;167;01mException\u001b[39;00m \u001b[38;5;28;01mas\u001b[39;00m e:\n\u001b[1;32m--> 135\u001b[0m     \u001b[38;5;28;01mraise\u001b[39;00m \u001b[38;5;167;01mValueError\u001b[39;00m(\u001b[38;5;124mf\u001b[39m\u001b[38;5;124m\"\u001b[39m\u001b[38;5;124mError reading file \u001b[39m\u001b[38;5;132;01m{\u001b[39;00mfile_path\u001b[38;5;132;01m}\u001b[39;00m\u001b[38;5;124m: \u001b[39m\u001b[38;5;132;01m{\u001b[39;00me\u001b[38;5;132;01m}\u001b[39;00m\u001b[38;5;124m\"\u001b[39m)\n",
      "\u001b[1;31mValueError\u001b[0m: Error reading file C:\\Users\\glogow0000\\HGS-DSSAT\\model\\HGS\\stand_alone\\lys\\hgs\\lys_Eo.observation_well_flow.sat_prof.dat: 'Z'"
     ]
    }
   ],
   "source": [
    "da.read_obs_well_sat_dat(file_path=\"C:\\\\Users\\\\glogow0000\\\\HGS-DSSAT\\\\model\\\\HGS\\\\stand_alone\\\\lys\\hgs\\\\lys_Eo.observation_well_flow.sat_prof.dat\",\n",
    "                         print_t=1)"
   ]
  }
 ],
 "metadata": {
  "kernelspec": {
   "display_name": "base",
   "language": "python",
   "name": "python3"
  },
  "language_info": {
   "codemirror_mode": {
    "name": "ipython",
    "version": 3
   },
   "file_extension": ".py",
   "mimetype": "text/x-python",
   "name": "python",
   "nbconvert_exporter": "python",
   "pygments_lexer": "ipython3",
   "version": "3.12.7"
  }
 },
 "nbformat": 4,
 "nbformat_minor": 5
}
