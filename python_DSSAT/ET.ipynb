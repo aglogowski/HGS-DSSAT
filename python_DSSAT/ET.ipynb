{
 "cells": [
  {
   "cell_type": "code",
   "execution_count": 2,
   "id": "7339bd8c-89dd-4dc4-b269-7ce8275dadbd",
   "metadata": {},
   "outputs": [],
   "source": [
    "from extract_tables import extract_tables\n",
    "import csv"
   ]
  },
  {
   "cell_type": "code",
   "execution_count": 3,
   "id": "049f0c87-e3d3-4721-9790-2d02d195099a",
   "metadata": {},
   "outputs": [],
   "source": [
    "# Output file to work with\n",
    "ascii_file_path = 'C:/Users/arek/HGS-DSSAT/data_dssat/ET.OUT'  # Replace with your ASCII file path"
   ]
  },
  {
   "cell_type": "code",
   "execution_count": 4,
   "id": "f290d7be-fc0d-49e5-823c-66e8b0fc7b18",
   "metadata": {},
   "outputs": [],
   "source": [
    "# extract all data from fiel\n",
    "tables = extract_tables(ascii_file_path)\n"
   ]
  },
  {
   "cell_type": "code",
   "execution_count": 24,
   "id": "80697528-3f23-491b-9625-8b2316638a53",
   "metadata": {},
   "outputs": [],
   "source": [
    "#slice array to only needed concentration of NO3\n",
    "#headers\n",
    "# Extract slices\n",
    "header_soil = tables[0][0][24:34]\n",
    "data_soil = tables[0][1][24:34]\n",
    "#slice array to only needed concentration of NH4\n",
    "#headers\n",
    "# Extract slices\n",
    "header_ET = tables[0][0][7]\n",
    "data_ET = tables[0][1][7]"
   ]
  },
  {
   "cell_type": "code",
   "execution_count": 35,
   "id": "7344cacc-c539-4cfc-b982-152713da2e05",
   "metadata": {},
   "outputs": [
    {
     "name": "stdout",
     "output_type": "stream",
     "text": [
      "CSV file saved successfully.\n"
     ]
    }
   ],
   "source": [
    "# Save to CSV\n",
    "with open(\"converted_outputs/soil_ET.csv\", \"w\", newline=\"\") as file:\n",
    "    writer = csv.writer(file)\n",
    "    writer.writerow(header_soil)  # First row as header\n",
    "    writer.writerow(data_soil)    # Second row as data\n",
    "\n",
    "with open(\"converted_outputs/ET.csv\", \"w\") as file:\n",
    "    file.write(header_ET+\"\\n\")  \n",
    "    file.write(data_ET)   \n",
    "print(\"CSV file saved successfully.\")"
   ]
  },
  {
   "cell_type": "code",
   "execution_count": null,
   "id": "3f7a18ca-13c9-4d86-a86a-307bf28bf7f3",
   "metadata": {},
   "outputs": [],
   "source": []
  }
 ],
 "metadata": {
  "kernelspec": {
   "display_name": "Python 3 (ipykernel)",
   "language": "python",
   "name": "python3"
  },
  "language_info": {
   "codemirror_mode": {
    "name": "ipython",
    "version": 3
   },
   "file_extension": ".py",
   "mimetype": "text/x-python",
   "name": "python",
   "nbconvert_exporter": "python",
   "pygments_lexer": "ipython3",
   "version": "3.10.9"
  }
 },
 "nbformat": 4,
 "nbformat_minor": 5
}
