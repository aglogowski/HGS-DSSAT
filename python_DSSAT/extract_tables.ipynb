{
 "cells": [
  {
   "cell_type": "code",
   "execution_count": 15,
   "id": "ace69440-6ec5-4e23-b572-5730ef90c2c5",
   "metadata": {},
   "outputs": [],
   "source": [
    "def extract_tables(file_path):\n",
    "    tables = []  # List to store tables\n",
    "    current_table = []  # Temp list to store rows of the current table\n",
    "\n",
    "    with open(file_path, 'r') as file:\n",
    "        for line in file:\n",
    "            line = line.rstrip()  # Strip trailing whitespace\n",
    "            if line.startswith('@'):  # Start of a new table\n",
    "                if current_table:  # Save the current table if one exists\n",
    "                    \n",
    "                    tables.append(current_table)\n",
    "                line=line[1:].split()\n",
    "                current_table = [line]  # Start a new table without '@'\n",
    "            elif line == '':  # Empty line signals the end of the current table\n",
    "                if current_table:  # Save the current table\n",
    "                    tables.append(current_table)\n",
    "                    current_table = []  # Reset for the next table\n",
    "            else:\n",
    "                if current_table:  # Add data to the current table\n",
    "                    line=line.split()\n",
    "                    current_table.append(line)\n",
    "\n",
    "    if current_table:  # Append the last table if the file doesn't end with an empty line\n",
    "        tables.append(current_table)\n",
    "\n",
    "    return tables\n"
   ]
  }
 ],
 "metadata": {
  "kernelspec": {
   "display_name": "Python 3 (ipykernel)",
   "language": "python",
   "name": "python3"
  },
  "language_info": {
   "codemirror_mode": {
    "name": "ipython",
    "version": 3
   },
   "file_extension": ".py",
   "mimetype": "text/x-python",
   "name": "python",
   "nbconvert_exporter": "python",
   "pygments_lexer": "ipython3",
   "version": "3.10.9"
  }
 },
 "nbformat": 4,
 "nbformat_minor": 5
}
