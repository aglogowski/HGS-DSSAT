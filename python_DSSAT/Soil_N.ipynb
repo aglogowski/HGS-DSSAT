{
 "cells": [
  {
   "cell_type": "code",
   "execution_count": 16,
   "id": "7339bd8c-89dd-4dc4-b269-7ce8275dadbd",
   "metadata": {},
   "outputs": [],
   "source": [
    "from extract_tables import extract_tables\n",
    "import csv"
   ]
  },
  {
   "cell_type": "code",
   "execution_count": 2,
   "id": "049f0c87-e3d3-4721-9790-2d02d195099a",
   "metadata": {},
   "outputs": [],
   "source": [
    "# Output file to work with\n",
    "ascii_file_path = 'C:/Users/arek/HGS-DSSAT/data_dssat/SoilNi.OUT'  # Replace with your ASCII file path"
   ]
  },
  {
   "cell_type": "code",
   "execution_count": 9,
   "id": "f290d7be-fc0d-49e5-823c-66e8b0fc7b18",
   "metadata": {},
   "outputs": [
    {
     "data": {
      "text/plain": [
       "['NI1D',\n",
       " 'NI2D',\n",
       " 'NI3D',\n",
       " 'NI4D',\n",
       " 'NI5D',\n",
       " 'NI6D',\n",
       " 'NI7D',\n",
       " 'NI8D',\n",
       " 'NI9D',\n",
       " 'NI10']"
      ]
     },
     "execution_count": 9,
     "metadata": {},
     "output_type": "execute_result"
    }
   ],
   "source": [
    "# extract all data from fiel\n",
    "tables = extract_tables(ascii_file_path)\n"
   ]
  },
  {
   "cell_type": "code",
   "execution_count": 14,
   "id": "80697528-3f23-491b-9625-8b2316638a53",
   "metadata": {},
   "outputs": [],
   "source": [
    "#slice array to only needed concentration of NO3\n",
    "#headers\n",
    "# Extract slices\n",
    "header_no3 = tables[0][0][18:28]\n",
    "data_no3 = tables[0][1][18:28]\n",
    "#slice array to only needed concentration of NH4\n",
    "#headers\n",
    "# Extract slices\n",
    "header_nh4 = tables[0][0][28:38]\n",
    "data_nh4 = tables[0][1][28:38]"
   ]
  },
  {
   "cell_type": "code",
   "execution_count": 17,
   "id": "7344cacc-c539-4cfc-b982-152713da2e05",
   "metadata": {},
   "outputs": [
    {
     "name": "stdout",
     "output_type": "stream",
     "text": [
      "CSV file saved successfully.\n"
     ]
    }
   ],
   "source": [
    "# Save to CSV\n",
    "with open(\"converted_outputs/nh4.csv\", \"w\", newline=\"\") as file:\n",
    "    writer = csv.writer(file)\n",
    "    writer.writerow(header_nh4)  # First row as header\n",
    "    writer.writerow(data_nh4)    # Second row as data\n",
    "\n",
    "with open(\"converted_outputs/no3.csv\", \"w\", newline=\"\") as file:\n",
    "    writer = csv.writer(file)\n",
    "    writer.writerow(header_no3)  \n",
    "    writer.writerow(data_no3)   \n",
    "print(\"CSV file saved successfully.\")"
   ]
  },
  {
   "cell_type": "code",
   "execution_count": null,
   "id": "05ccf98e-c697-4f45-af68-e7d1c307a62b",
   "metadata": {},
   "outputs": [],
   "source": []
  }
 ],
 "metadata": {
  "kernelspec": {
   "display_name": "Python 3 (ipykernel)",
   "language": "python",
   "name": "python3"
  },
  "language_info": {
   "codemirror_mode": {
    "name": "ipython",
    "version": 3
   },
   "file_extension": ".py",
   "mimetype": "text/x-python",
   "name": "python",
   "nbconvert_exporter": "python",
   "pygments_lexer": "ipython3",
   "version": "3.10.9"
  }
 },
 "nbformat": 4,
 "nbformat_minor": 5
}
