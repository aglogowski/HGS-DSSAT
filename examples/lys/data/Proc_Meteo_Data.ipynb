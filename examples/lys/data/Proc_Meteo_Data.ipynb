{
 "cells": [
  {
   "cell_type": "code",
   "execution_count": 8,
   "metadata": {},
   "outputs": [],
   "source": [
    "import os\n",
    "import pandas as pd\n",
    "import datetime as dt"
   ]
  },
  {
   "cell_type": "markdown",
   "metadata": {},
   "source": [
    "## Locs"
   ]
  },
  {
   "cell_type": "code",
   "execution_count": 9,
   "metadata": {},
   "outputs": [],
   "source": [
    "DATA_FILE = 'Field_Meteo_2024.csv'"
   ]
  },
  {
   "cell_type": "code",
   "execution_count": 10,
   "metadata": {},
   "outputs": [],
   "source": [
    "OUT_FILE = 'Procd_P.txt'"
   ]
  },
  {
   "cell_type": "markdown",
   "metadata": {},
   "source": [
    "## Filter Data to Daily Sums"
   ]
  },
  {
   "cell_type": "code",
   "execution_count": 11,
   "metadata": {},
   "outputs": [],
   "source": [
    "# Filter to daily sums\n",
    "# Load\n",
    "df = pd.read_csv(DATA_FILE, parse_dates = ['datetime'])\n",
    "# Datetime index\n",
    "df = df.set_index('datetime')\n",
    "# Resample to daily and take sum\n",
    "df = df.resample('d').agg('sum')\n",
    "# Convert rainfall intensity to mm/day\n",
    "df['rainfall_intensity'] = df['rainfall_intensity']/1000."
   ]
  },
  {
   "cell_type": "code",
   "execution_count": 12,
   "metadata": {},
   "outputs": [],
   "source": [
    "## Write out into table format for HGS\n",
    "# Define DSSAT Day 0 of experiment\n",
    "Start_Date = dt.datetime(2024,5,9)\n",
    "Start_Day = 0\n",
    "# Define DSSAT end of experiment\n",
    "End_Date = dt.datetime(2024,7,30)\n",
    "End_Day = (End_Date - Start_Date).days\n",
    "# Convetr back from datetime index so that it's a column\n",
    "df['datetime'] = df.index\n",
    "# Get column of days since start of experiment\n",
    "df['Experiment Day'] = df['datetime'].apply(lambda x: (x - Start_Date).days)\n",
    "# Subset to Experiment days and precipitation\n",
    "df = df.loc[(df['Experiment Day'] >= Start_Day) & (df['Experiment Day'] <= End_Day),:]\n",
    "# Write out to text file\n",
    "with open(OUT_FILE,'w') as file_out:\n",
    "    for entry in df.iterrows():\n",
    "        linestring = str(float(entry[1]['Experiment Day'])) + ' ' + str(entry[1]['rainfall_intensity']) + '\\n'\n",
    "        file_out.write(linestring)"
   ]
  },
  {
   "cell_type": "code",
   "execution_count": null,
   "metadata": {},
   "outputs": [],
   "source": []
  }
 ],
 "metadata": {
  "kernelspec": {
   "display_name": "base",
   "language": "python",
   "name": "python3"
  },
  "language_info": {
   "codemirror_mode": {
    "name": "ipython",
    "version": 3
   },
   "file_extension": ".py",
   "mimetype": "text/x-python",
   "name": "python",
   "nbconvert_exporter": "python",
   "pygments_lexer": "ipython3",
   "version": "3.11.5"
  }
 },
 "nbformat": 4,
 "nbformat_minor": 2
}
