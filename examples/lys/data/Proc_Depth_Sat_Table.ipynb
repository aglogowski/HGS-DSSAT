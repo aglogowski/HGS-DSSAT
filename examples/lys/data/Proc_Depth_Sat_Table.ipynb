{
 "cells": [
  {
   "cell_type": "code",
   "execution_count": 4,
   "metadata": {},
   "outputs": [],
   "source": [
    "import os\n",
    "import numpy as np"
   ]
  },
  {
   "cell_type": "markdown",
   "metadata": {},
   "source": [
    "## Locs"
   ]
  },
  {
   "cell_type": "code",
   "execution_count": 9,
   "metadata": {},
   "outputs": [],
   "source": [
    "DATA_FILE = 'Field_MoistureData_2024.csv'"
   ]
  },
  {
   "cell_type": "code",
   "execution_count": 10,
   "metadata": {},
   "outputs": [],
   "source": [
    "OUT_FILE = 'Procd_DepthSat.txt'"
   ]
  },
  {
   "cell_type": "code",
   "execution_count": 11,
   "metadata": {},
   "outputs": [],
   "source": [
    "Line_No = 37225"
   ]
  },
  {
   "cell_type": "markdown",
   "metadata": {},
   "source": [
    "## Prepare Table"
   ]
  },
  {
   "cell_type": "code",
   "execution_count": 15,
   "metadata": {},
   "outputs": [],
   "source": [
    "## Grab data out of file and get into nice format\n",
    "# Get datastring\n",
    "with open(DATA_FILE,'r') as file_in:\n",
    "    lines = file_in.readlines()\n",
    "    i_data = lines[Line_No-1]\n",
    "# Get list of float values for depth and saturation\n",
    "Depth_Vals = [0.01,0.02,0.03,0.04,0.05,0.06,0.07,0.08]\n",
    "Sat_Vals = [float(x)/100. for x in i_data.split(',')[1:len(Depth_Vals)+1]]"
   ]
  },
  {
   "cell_type": "code",
   "execution_count": 18,
   "metadata": {},
   "outputs": [],
   "source": [
    "## Write File\n",
    "with open(OUT_FILE,'w') as file_out:\n",
    "    for i in range(len(Depth_Vals)):\n",
    "        file_out.write(str(Depth_Vals[i]) + ' ' + str(Sat_Vals[i]) + '\\n')"
   ]
  },
  {
   "cell_type": "code",
   "execution_count": null,
   "metadata": {},
   "outputs": [],
   "source": []
  }
 ],
 "metadata": {
  "kernelspec": {
   "display_name": "base",
   "language": "python",
   "name": "python3"
  },
  "language_info": {
   "codemirror_mode": {
    "name": "ipython",
    "version": 3
   },
   "file_extension": ".py",
   "mimetype": "text/x-python",
   "name": "python",
   "nbconvert_exporter": "python",
   "pygments_lexer": "ipython3",
   "version": "3.11.5"
  }
 },
 "nbformat": 4,
 "nbformat_minor": 2
}
