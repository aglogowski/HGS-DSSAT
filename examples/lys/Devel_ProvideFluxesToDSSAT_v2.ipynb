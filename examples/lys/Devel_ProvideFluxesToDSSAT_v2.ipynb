{
 "cells": [
  {
   "cell_type": "code",
   "execution_count": 4,
   "metadata": {},
   "outputs": [],
   "source": [
    "import os\n",
    "import numpy as np\n",
    "import subprocess as sp\n",
    "import pickle as pkl\n",
    "import pandas as pd\n",
    "import shutil"
   ]
  },
  {
   "cell_type": "code",
   "execution_count": 6,
   "metadata": {},
   "outputs": [],
   "source": [
    "mod_dir = r'C:\\Users\\southa0000\\Documents\\HGS-DSSAT\\HGS-DSSAT\\examples\\lys'"
   ]
  },
  {
   "cell_type": "code",
   "execution_count": 8,
   "metadata": {},
   "outputs": [],
   "source": [
    "hgs_mod_dir = os.path.join(mod_dir,'hgs')\n",
    "model_name = 'lys'\n",
    "grok_file_path = os.path.join(hgs_mod_dir,model_name + '_e.grok')\n",
    "\n",
    "cmod_dir = r'C:\\\\Users\\\\southa0000\\\\Documents\\\\HGS-DSSAT\\\\HGS-DSSAT\\\\examples\\\\lys\\\\coupled'\n",
    "cmod_hgs_dir = r'C:\\\\Users\\\\southa0000\\\\Documents\\\\HGS-DSSAT\\\\HGS-DSSAT\\\\examples\\\\lys\\\\coupled\\\\hgs'\n",
    "cmod_dssat_dir = r'C:\\\\Users\\\\southa0000\\\\Documents\\\\HGS-DSSAT\\\\HGS-DSSAT\\\\examples\\\\lys\\\\coupled\\\\dssat'"
   ]
  },
  {
   "cell_type": "code",
   "execution_count": 10,
   "metadata": {},
   "outputs": [],
   "source": [
    "grok_file_stem = model_name + '_e'"
   ]
  },
  {
   "cell_type": "code",
   "execution_count": 12,
   "metadata": {},
   "outputs": [],
   "source": [
    "e_mapping_pkl_path = r'C:\\\\Users\\\\southa0000\\\\Documents\\\\HGS-DSSAT\\\\HGS-DSSAT\\\\examples\\\\lys\\\\mapping\\\\lys_elem_mapping.p'"
   ]
  },
  {
   "cell_type": "code",
   "execution_count": 15,
   "metadata": {},
   "outputs": [],
   "source": [
    "id = 'dupa'\n",
    "top_node_sheet_number = 15\n",
    "mdl = 1"
   ]
  },
  {
   "cell_type": "code",
   "execution_count": 16,
   "metadata": {},
   "outputs": [],
   "source": [
    "def BuildDailyFluxFiles(grok_file_stem,coupled_mod_hgs_dir,coupled_mod_dssat_dir,i,mdl):\n",
    "    # Get path to file\n",
    "    nfmb_path = os.path.join(coupled_mod_hgs_dir,grok_file_stem + 'o.nodal_fluid_mass_balance.'+id+'.dat')\n",
    "    # Open file and grab area and variable list\n",
    "    with open(nfmb_path,'r') as file:\n",
    "        for i,line in enumerate(file.readlines()):\n",
    "            if i == 1:\n",
    "                area = float(line.split(':')[1].strip())\n",
    "            elif i == 3:\n",
    "                vars = [x.replace('\"','') for x in line.strip().split('=')[1].split(',')]\n",
    "            else:\n",
    "                if 'Zone T=' in line:\n",
    "                    start_line = i+1\n",
    "    # Load whole table as df\n",
    "    df = pd.read_csv(nfmb_path, skiprows = start_line, names = vars, delim_whitespace=True)\n",
    "    # Get column of time increment\n",
    "    df['Time Inc'] = df['Time'].diff()\n",
    "    df.loc[0,'Time Inc'] = df['Time'].values[0]\n",
    "    # Iterate thru node sheets to get drainage fluxes\n",
    "    Net_Q_List = []\n",
    "    for i in np.flip(np.arange(top_node_sheet_number-11,top_node_sheet_number)):\n",
    "        net_q_name = 'Net_Q_{:02d}'.format(i)\n",
    "        df[net_q_name] = df.apply(lambda x: (x['QVU+{:02d}'.format(i)] - x['QVU-{:02d}'.format(i)]+ x['QVD+{:02d}'.format(i)]-x['QVD-{:02d}'.format(i)])*x['Time Inc']/area*100., axis = 1)\n",
    "        Net_Q_List.append(net_q_name)\n",
    "    # Iterate through days - DON'T NEED ITERATION\n",
    "    for day in np.arange(0,275):\n",
    "        Net_Q_Vals = []\n",
    "        sub_df = df.loc[(df['Time'] > day) & (df['Time'] <= day+1), Net_Q_List]\n",
    "        for name in Net_Q_List:\n",
    "            Net_Q_Vals.append(sub_df[name].sum())\n",
    "        # Write out to file\n",
    "        drn_path = os.path.join(coupled_mod_dssat_dir,'{}_{}_DRN.inp'.format(mdl,day))\n",
    "        with open(drn_path,'w') as file:\n",
    "            line = ''\n",
    "            for val in Net_Q_Vals:\n",
    "                line += (f\"{val:7.4f}\"+'   ')\n",
    "            for i in range(9):\n",
    "                line +=(f\" 0.0000\"+'   ')\n",
    "            file.write(line)\n",
    "    return df\n"
   ]
  },
  {
   "cell_type": "code",
   "execution_count": 17,
   "metadata": {},
   "outputs": [],
   "source": [
    "# Create Flux Files\n",
    "df = BuildDailyFluxFiles(grok_file_stem,hgs_mod_dir,cmod_dssat_dir,id,mdl)"
   ]
  },
  {
   "cell_type": "code",
   "execution_count": 18,
   "metadata": {},
   "outputs": [],
   "source": [
    "df.to_excel('test.xlsx')"
   ]
  },
  {
   "cell_type": "code",
   "execution_count": null,
   "metadata": {},
   "outputs": [],
   "source": []
  }
 ],
 "metadata": {
  "kernelspec": {
   "display_name": "Python 3 (ipykernel)",
   "language": "python",
   "name": "python3"
  },
  "language_info": {
   "codemirror_mode": {
    "name": "ipython",
    "version": 3
   },
   "file_extension": ".py",
   "mimetype": "text/x-python",
   "name": "python",
   "nbconvert_exporter": "python",
   "pygments_lexer": "ipython3",
   "version": "3.12.4"
  }
 },
 "nbformat": 4,
 "nbformat_minor": 4
}
