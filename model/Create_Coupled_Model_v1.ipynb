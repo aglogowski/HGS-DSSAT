{
 "cells": [
  {
   "cell_type": "code",
   "execution_count": 1,
   "metadata": {},
   "outputs": [],
   "source": [
    "import os\n",
    "import pyHGSDSSAT.ModelPrep as mp\n",
    "import pyHGSDSSAT.CreateMapping as cm\n",
    "import pyHGSDSSAT.ModelInfoExchange as ie"
   ]
  },
  {
   "cell_type": "markdown",
   "metadata": {},
   "source": [
    "## Locations, Parameters, Names"
   ]
  },
  {
   "cell_type": "code",
   "execution_count": 2,
   "metadata": {},
   "outputs": [],
   "source": [
    "## Main Directory Names Block\n",
    "# Model directory name (here assumed cwd)\n",
    "mod_dir = os.getcwd()\n",
    "# Path to standalone hgs model directory\n",
    "hgs_mod_dir = os.path.join(mod_dir,r'HGS\\stand_alone\\lys\\hgs')\n",
    "# Path to standalone dssat model directory\n",
    "dssat_mod_dir = os.path.join(mod_dir,r'DSSAT\\Vanilla\\wheat')\n",
    "# Name of standalone model file - everything that precedes .grok\n",
    "model_name = 'lys_e'\n",
    "# Coupled model name - name of coupled model instance\n",
    "coupled_model_name = 'coupled_v1'"
   ]
  },
  {
   "cell_type": "code",
   "execution_count": 3,
   "metadata": {},
   "outputs": [],
   "source": [
    "# Model Geometric Info Block\n",
    "# Number of Layers in Each Model\n",
    "dssat_layers = 9\n",
    "hgs_layers = 12"
   ]
  },
  {
   "cell_type": "markdown",
   "metadata": {},
   "source": [
    "## Build Coupled Model Mapping"
   ]
  },
  {
   "cell_type": "code",
   "execution_count": 4,
   "metadata": {},
   "outputs": [
    {
     "name": "stdout",
     "output_type": "stream",
     "text": [
      "c:\\Users\\southa0000\\Documents\\HGS_DSSAT_Devel\\HGS-DSSAT\\model\\coupled_v1 already exists\n",
      "c:\\Users\\southa0000\\Documents\\HGS_DSSAT_Devel\\HGS-DSSAT\\model\\coupled_v1\\hgs already exists\n",
      "c:\\Users\\southa0000\\Documents\\HGS_DSSAT_Devel\\HGS-DSSAT\\model\\coupled_v1\\dssat already exists\n",
      "c:\\Users\\southa0000\\Documents\\HGS_DSSAT_Devel\\HGS-DSSAT\\model\\coupled_v1\\mapping already exists\n"
     ]
    }
   ],
   "source": [
    "# Create model directories so that there is a mapping dir\n",
    "coupled_mod_dir,coupled_mod_hgs_dir,coupled_mod_dssat_dir,coupled_mod_mapping_dir = mp.Create_Coupled_Model_Dir(mod_dir,coupled_model_name)"
   ]
  },
  {
   "cell_type": "code",
   "execution_count": 5,
   "metadata": {},
   "outputs": [
    {
     "name": "stdout",
     "output_type": "stream",
     "text": [
      "x dim is 3\n",
      "[0.0, 1.0, 2.0]\n",
      "y dim is 3\n",
      "[0.0, 1.0, 2.0]\n"
     ]
    }
   ],
   "source": [
    "# Generate shapefiles that will be used to set up coupled model mapping\n",
    "node_shapefile_path,cv_shapefile_path = cm.GenerateMappingShapefiles(coupled_mod_hgs_dir,\n",
    "                                                                     coupled_mod_mapping_dir,\n",
    "                                                                     model_name)"
   ]
  },
  {
   "cell_type": "code",
   "execution_count": 6,
   "metadata": {},
   "outputs": [],
   "source": [
    "# AT THIS POINT USER SHOULD OPEN SHAPEFILES AND ASSIGN DSSAT MODEL IDS TO EACH CONTROL VOLUME"
   ]
  },
  {
   "cell_type": "code",
   "execution_count": 7,
   "metadata": {},
   "outputs": [
    {
     "name": "stdout",
     "output_type": "stream",
     "text": [
      "   node_id  dssat_id  area                                           geometry\n",
      "0        1         1  0.25  POLYGON ((0.00000 0.00000, 0.00000 0.50000, 0....\n",
      "1        2         1  0.50  POLYGON ((0.50000 0.00000, 0.50000 0.50000, 1....\n",
      "2        3         1  0.25  POLYGON ((1.50000 0.00000, 1.50000 0.50000, 2....\n",
      "3        4         1  0.50  POLYGON ((0.00000 0.50000, 0.00000 1.50000, 0....\n",
      "4        5         1  1.00  POLYGON ((0.50000 0.50000, 0.50000 1.50000, 1....\n",
      "5        6         1  0.50  POLYGON ((1.50000 0.50000, 1.50000 1.50000, 2....\n",
      "6        7         1  0.25  POLYGON ((0.00000 1.50000, 0.00000 2.00000, 0....\n",
      "7        8         1  0.50  POLYGON ((0.50000 1.50000, 0.50000 2.00000, 1....\n",
      "8        9         1  0.25  POLYGON ((1.50000 1.50000, 1.50000 2.00000, 2....\n"
     ]
    }
   ],
   "source": [
    "# Develop Mapping dictionaries that will be used in construction of coupled grok files\n",
    "dlhl_dict,hldl_dict,hnsdb_dict,dlhnsud_dict = cm.DevelopVerticalMapping(dssat_layers,hgs_layers)\n",
    "hncvdm_dict, dm_area_shp_dict = cm.DevelopHorizontalMapping(cv_shapefile_path,coupled_mod_mapping_dir)"
   ]
  },
  {
   "cell_type": "code",
   "execution_count": 8,
   "metadata": {},
   "outputs": [],
   "source": [
    "# Write out all mapping dicts to a pickle for the model controller\n",
    "cm.GenerateMappingPickle(coupled_mod_mapping_dir,dlhl_dict,hldl_dict,hnsdb_dict,dlhnsud_dict,hncvdm_dict,dm_area_shp_dict)"
   ]
  },
  {
   "cell_type": "markdown",
   "metadata": {},
   "source": [
    "## Build Coupled Model Dir"
   ]
  },
  {
   "cell_type": "code",
   "execution_count": 9,
   "metadata": {},
   "outputs": [
    {
     "name": "stdout",
     "output_type": "stream",
     "text": [
      "c:\\Users\\southa0000\\Documents\\HGS_DSSAT_Devel\\HGS-DSSAT\\model\\coupled_v1 already exists\n",
      "c:\\Users\\southa0000\\Documents\\HGS_DSSAT_Devel\\HGS-DSSAT\\model\\coupled_v1\\hgs already exists\n",
      "c:\\Users\\southa0000\\Documents\\HGS_DSSAT_Devel\\HGS-DSSAT\\model\\coupled_v1\\dssat already exists\n",
      "c:\\Users\\southa0000\\Documents\\HGS_DSSAT_Devel\\HGS-DSSAT\\model\\coupled_v1\\mapping already exists\n",
      "c:\\Users\\southa0000\\Documents\\HGS_DSSAT_Devel\\HGS-DSSAT\\model\\coupled_v1\\dssat\\1 already exists\n",
      "DSSAT48.INH\n",
      "DSSAT48.INH\n",
      "DSSAT48.INP\n",
      "DSSAT48.INP\n",
      "ET.OUT\n",
      "GHG.OUT\n",
      "INFO.OUT\n",
      "Leaves.OUT\n",
      "LUN.LST\n",
      "LUN.LST\n",
      "Measured.OUT\n",
      "N2O.OUT\n",
      "OUTPUT.LST\n",
      "OUTPUT.LST\n",
      "RunList.OUT\n",
      "SoilNBalSum.OUT\n",
      "SoilNi.OUT\n",
      "SoilNiBal.OUT\n",
      "SoilNoBal.OUT\n",
      "SoilTemp.OUT\n",
      "SoilWat.OUT\n",
      "SoilWatBal.OUT\n",
      "SoilWater.OUT\n",
      "SWBalSum.OUT\n",
      "SWSW7501.WHA\n",
      "SWSW7501.WHA\n",
      "SWSW7501.WHT\n",
      "SWSW7501.WHT\n",
      "SWSW7501.WHX\n",
      "SWSW7501.WHX\n",
      "WARNING.OUT\n",
      "Weather.OUT\n",
      "c:\\Users\\southa0000\\Documents\\HGS_DSSAT_Devel\\HGS-DSSAT\\model\\coupled_v1\\dssat\\1\\data already exists\n"
     ]
    }
   ],
   "source": [
    "## Build Coupled Model\n",
    "coupled_mod_dir,coupled_mod_hgs_dir,coupled_mod_dssat_dir,coupled_mod_mapping_dir = mp.Build_Coupled_Model_Files(mod_dir,model_name,coupled_model_name,hgs_mod_dir,dssat_mod_dir,hnsdb_dict,dm_area_shp_dict)"
   ]
  },
  {
   "cell_type": "markdown",
   "metadata": {},
   "source": [
    "## Debug Exchange Funcs"
   ]
  },
  {
   "cell_type": "code",
   "execution_count": 10,
   "metadata": {},
   "outputs": [
    {
     "name": "stdout",
     "output_type": "stream",
     "text": [
      "[4, 5, 6, 7, 8, 9, 10, 11, 12, 13] [1, 2, 3, 4, 5, 6, 7, 8, 9]\n",
      "     @YEAR  DOY  DAS  SRAA  TMAXA  TMINA  REFA   EOAA  EOPA   EOSA  ...  \\\n",
      "0     1975  132    1  23.6   11.0    5.0 -99.0  3.496   0.0  3.496  ...   \n",
      "1     1975  133    2  21.3   11.0    5.0 -99.0  3.236   0.0  3.236  ...   \n",
      "2     1975  134    3  29.3   11.0    5.0 -99.0  4.228   0.0  4.228  ...   \n",
      "3     1975  135    4  24.7   11.0    5.0 -99.0  3.640   0.0  3.640  ...   \n",
      "4     1975  136    5  17.7   11.0    5.0 -99.0  2.796   0.0  2.796  ...   \n",
      "..     ...  ...  ...   ...    ...    ...   ...    ...   ...    ...  ...   \n",
      "97    1975  229   98  11.4   17.0    4.0 -99.0  2.462   0.0  2.462  ...   \n",
      "98    1975  230   99  21.5   14.0    8.0 -99.0  3.427   0.0  3.427  ...   \n",
      "99    1975  231  100  18.8   15.0    9.0 -99.0  3.162   0.0  3.162  ...   \n",
      "100   1975  232  101  20.1   14.0   11.0 -99.0  3.319   0.0  3.319  ...   \n",
      "101   1975  233  102  25.2   24.0    8.0 -99.0  5.079   0.0  5.079  ...   \n",
      "\n",
      "      ES2D   ES3D   ES4D   ES5D   ES6D   ES7D   ES8D   ES9D  TRWUD  TWUPD  \n",
      "0    0.567  0.514  0.319  0.248  0.208  0.209  0.354  0.297    0.0    0.0  \n",
      "1    0.522  0.469  0.291  0.224  0.188  0.190  0.322  0.270    0.0    0.0  \n",
      "2    0.685  0.620  0.385  0.298  0.249  0.251  0.425  0.357    0.0    0.0  \n",
      "3    0.110  0.036  0.011  0.006  0.003  0.003  0.003  0.002    0.0    0.0  \n",
      "4    0.110  0.036  0.011  0.006  0.003  0.003  0.003  0.002    0.0    0.0  \n",
      "..     ...    ...    ...    ...    ...    ...    ...    ...    ...    ...  \n",
      "97   0.091  0.015  0.005  0.003  0.002  0.002  0.003  0.002    0.0    0.0  \n",
      "98   0.092  0.015  0.005  0.003  0.002  0.002  0.003  0.002    0.0    0.0  \n",
      "99   0.609  0.261  0.155  0.140  0.127  0.137  0.371  0.335    0.0    0.0  \n",
      "100  0.662  0.257  0.149  0.135  0.122  0.132  0.358  0.323    0.0    0.0  \n",
      "101  1.130  0.468  0.207  0.188  0.170  0.184  0.500  0.452    0.0    0.0  \n",
      "\n",
      "[102 rows x 35 columns]\n",
      "     day    1    2    3    4    5    6    7    8    9  ...   11   12   13  \\\n",
      "0      1  0.0  0.0  0.0  0.0  0.0  0.0  0.0  0.0  0.0  ...  0.0  0.0  0.0   \n",
      "1      2  0.0  0.0  0.0  0.0  0.0  0.0  0.0  0.0  0.0  ...  0.0  0.0  0.0   \n",
      "2      3  0.0  0.0  0.0  0.0  0.0  0.0  0.0  0.0  0.0  ...  0.0  0.0  0.0   \n",
      "3      4  0.0  0.0  0.0  0.0  0.0  0.0  0.0  0.0  0.0  ...  0.0  0.0  0.0   \n",
      "4      5  0.0  0.0  0.0  0.0  0.0  0.0  0.0  0.0  0.0  ...  0.0  0.0  0.0   \n",
      "..   ...  ...  ...  ...  ...  ...  ...  ...  ...  ...  ...  ...  ...  ...   \n",
      "97    98  0.0  0.0  0.0  0.0  0.0  0.0  0.0  0.0  0.0  ...  0.0  0.0  0.0   \n",
      "98    99  0.0  0.0  0.0  0.0  0.0  0.0  0.0  0.0  0.0  ...  0.0  0.0  0.0   \n",
      "99   100  0.0  0.0  0.0  0.0  0.0  0.0  0.0  0.0  0.0  ...  0.0  0.0  0.0   \n",
      "100  101  0.0  0.0  0.0  0.0  0.0  0.0  0.0  0.0  0.0  ...  0.0  0.0  0.0   \n",
      "101  102  0.0  0.0  0.0  0.0  0.0  0.0  0.0  0.0  0.0  ...  0.0  0.0  0.0   \n",
      "\n",
      "      14   15   16   17   18   19   20  \n",
      "0    0.0  0.0  0.0  0.0  0.0  0.0  0.0  \n",
      "1    0.0  0.0  0.0  0.0  0.0  0.0  0.0  \n",
      "2    0.0  0.0  0.0  0.0  0.0  0.0  0.0  \n",
      "3    0.0  0.0  0.0  0.0  0.0  0.0  0.0  \n",
      "4    0.0  0.0  0.0  0.0  0.0  0.0  0.0  \n",
      "..   ...  ...  ...  ...  ...  ...  ...  \n",
      "97   0.0  0.0  0.0  0.0  0.0  0.0  0.0  \n",
      "98   0.0  0.0  0.0  0.0  0.0  0.0  0.0  \n",
      "99   0.0  0.0  0.0  0.0  0.0  0.0  0.0  \n",
      "100  0.0  0.0  0.0  0.0  0.0  0.0  0.0  \n",
      "101  0.0  0.0  0.0  0.0  0.0  0.0  0.0  \n",
      "\n",
      "[102 rows x 21 columns]\n",
      "{1: {1: 1.18, 2: 0.662, 3: 0.257, 4: 0.149, 5: 0.135, 6: 0.122, 7: 0.132, 8: 0.358, 9: 0.323}}\n",
      "0 4\n",
      "1 5\n",
      "2 6\n",
      "3 7\n",
      "4 8\n",
      "5 9\n",
      "6 10\n",
      "7 11\n",
      "8 12\n",
      "9 13\n"
     ]
    }
   ],
   "source": [
    "mapping = ie.ExposeMappingVariables(coupled_mod_dir)\n",
    "ie.GenerateNodalFluxTimeValueTableDSSATET(mapping,1,coupled_mod_hgs_dir,coupled_mod_dssat_dir)"
   ]
  },
  {
   "cell_type": "code",
   "execution_count": 11,
   "metadata": {},
   "outputs": [],
   "source": [
    "ie.GenerateDSSATDailyDRNHGSNodalFlux(mapping,0,model_name,coupled_mod_hgs_dir,coupled_mod_dssat_dir)"
   ]
  },
  {
   "cell_type": "code",
   "execution_count": null,
   "metadata": {},
   "outputs": [],
   "source": []
  }
 ],
 "metadata": {
  "kernelspec": {
   "display_name": "base",
   "language": "python",
   "name": "python3"
  },
  "language_info": {
   "codemirror_mode": {
    "name": "ipython",
    "version": 3
   },
   "file_extension": ".py",
   "mimetype": "text/x-python",
   "name": "python",
   "nbconvert_exporter": "python",
   "pygments_lexer": "ipython3",
   "version": "3.11.5"
  }
 },
 "nbformat": 4,
 "nbformat_minor": 2
}
