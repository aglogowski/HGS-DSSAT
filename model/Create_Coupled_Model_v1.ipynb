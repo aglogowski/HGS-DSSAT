{
 "cells": [
  {
   "cell_type": "code",
   "execution_count": 1,
   "metadata": {},
   "outputs": [],
   "source": [
    "import os\n",
    "import pyHGSDSSAT.ModelPrep as mp\n",
    "import pyHGSDSSAT.CreateMapping as cm\n",
    "import pyHGSDSSAT.ModelInfoExchange as ie"
   ]
  },
  {
   "cell_type": "code",
   "execution_count": null,
   "metadata": {},
   "outputs": [],
   "source": []
  },
  {
   "cell_type": "markdown",
   "metadata": {},
   "source": [
    "## Locations, Parameters, Names"
   ]
  },
  {
   "cell_type": "code",
   "execution_count": 2,
   "metadata": {},
   "outputs": [],
   "source": [
    "## Main Directory Names Block\n",
    "# Model directory name (here assumed cwd)\n",
    "mod_dir = os.getcwd()\n",
    "# Path to standalone hgs model directory\n",
    "hgs_mod_dir = os.path.join(mod_dir,r'HGS\\stand_alone\\lys\\hgs')\n",
    "# Path to standalone dssat model directory\n",
    "dssat_mod_dir = os.path.join(mod_dir,r'DSSAT\\Vanilla\\wheat')\n",
    "# Name of standalone model file - everything that precedes .grok\n",
    "model_name = 'lys_e'\n",
    "# Coupled model name - name of coupled model instance\n",
    "coupled_model_name = 'coupled_v1'"
   ]
  },
  {
   "cell_type": "code",
   "execution_count": 3,
   "metadata": {},
   "outputs": [],
   "source": [
    "# Model Geometric Info Block\n",
    "# Number of Layers in Each Model\n",
    "dssat_layers = 9\n",
    "hgs_layers = 12"
   ]
  },
  {
   "cell_type": "markdown",
   "metadata": {},
   "source": [
    "## Build Coupled Model Mapping"
   ]
  },
  {
   "cell_type": "code",
   "execution_count": 4,
   "metadata": {},
   "outputs": [
    {
     "name": "stdout",
     "output_type": "stream",
     "text": [
      "c:\\Users\\glogow0000\\HGS-DSSAT\\model\\coupled_v1 already exists\n",
      "c:\\Users\\glogow0000\\HGS-DSSAT\\model\\coupled_v1\\hgs already exists\n",
      "c:\\Users\\glogow0000\\HGS-DSSAT\\model\\coupled_v1\\dssat already exists\n",
      "c:\\Users\\glogow0000\\HGS-DSSAT\\model\\coupled_v1\\mapping already exists\n"
     ]
    }
   ],
   "source": [
    "# Create model directories so that there is a mapping dir\n",
    "coupled_mod_dir,coupled_mod_hgs_dir,coupled_mod_dssat_dir,coupled_mod_mapping_dir = mp.Create_Coupled_Model_Dir(mod_dir,coupled_model_name)"
   ]
  },
  {
   "cell_type": "code",
   "execution_count": 5,
   "metadata": {},
   "outputs": [
    {
     "name": "stdout",
     "output_type": "stream",
     "text": [
      "x dim is 3\n",
      "[0.0, 1.0, 2.0]\n",
      "y dim is 3\n",
      "[0.0, 1.0, 2.0]\n"
     ]
    },
    {
     "name": "stderr",
     "output_type": "stream",
     "text": [
      "C:\\Users\\glogow0000\\AppData\\Local\\Packages\\PythonSoftwareFoundation.Python.3.13_qbz5n2kfra8p0\\LocalCache\\local-packages\\Python313\\site-packages\\pyogrio\\geopandas.py:710: UserWarning: 'crs' was not provided.  The output dataset will not have projection information defined and may not be usable in other systems.\n",
      "  write(\n",
      "C:\\Users\\glogow0000\\AppData\\Local\\Packages\\PythonSoftwareFoundation.Python.3.13_qbz5n2kfra8p0\\LocalCache\\local-packages\\Python313\\site-packages\\pyogrio\\geopandas.py:710: UserWarning: 'crs' was not provided.  The output dataset will not have projection information defined and may not be usable in other systems.\n",
      "  write(\n"
     ]
    }
   ],
   "source": [
    "# Generate shapefiles that will be used to set up coupled model mapping\n",
    "node_shapefile_path,cv_shapefile_path = cm.GenerateMappingShapefiles(hgs_mod_dir,\n",
    "                                                                     coupled_mod_mapping_dir,\n",
    "                                                                     model_name)"
   ]
  },
  {
   "cell_type": "code",
   "execution_count": 6,
   "metadata": {},
   "outputs": [],
   "source": [
    "# AT THIS POINT USER SHOULD OPEN SHAPEFILES AND ASSIGN DSSAT MODEL IDS TO EACH CONTROL VOLUME"
   ]
  },
  {
   "cell_type": "code",
   "execution_count": 7,
   "metadata": {},
   "outputs": [
    {
     "name": "stdout",
     "output_type": "stream",
     "text": [
      "   node_id  dssat_id  area                                           geometry\n",
      "0        1         1  0.25        POLYGON ((0 0, 0 0.5, 0.5 0.5, 0.5 0, 0 0))\n",
      "1        2         1  0.50  POLYGON ((0.5 0, 0.5 0.5, 1.5 0.5, 1.5 0, 0.5 0))\n",
      "2        3         1  0.25      POLYGON ((1.5 0, 1.5 0.5, 2 0.5, 2 0, 1.5 0))\n",
      "3        4         1  0.50  POLYGON ((0 0.5, 0 1.5, 0.5 1.5, 0.5 0.5, 0 0.5))\n",
      "4        5         1  1.00  POLYGON ((0.5 0.5, 0.5 1.5, 1.5 1.5, 1.5 0.5, ...\n",
      "5        6         1  0.50  POLYGON ((1.5 0.5, 1.5 1.5, 2 1.5, 2 0.5, 1.5 ...\n",
      "6        7         1  0.25      POLYGON ((0 1.5, 0 2, 0.5 2, 0.5 1.5, 0 1.5))\n",
      "7        8         1  0.50  POLYGON ((0.5 1.5, 0.5 2, 1.5 2, 1.5 1.5, 0.5 ...\n",
      "8        9         1  0.25    POLYGON ((1.5 1.5, 1.5 2, 2 2, 2 1.5, 1.5 1.5))\n"
     ]
    },
    {
     "name": "stderr",
     "output_type": "stream",
     "text": [
      "C:\\Users\\glogow0000\\AppData\\Local\\Packages\\PythonSoftwareFoundation.Python.3.13_qbz5n2kfra8p0\\LocalCache\\local-packages\\Python313\\site-packages\\pyogrio\\geopandas.py:710: UserWarning: 'crs' was not provided.  The output dataset will not have projection information defined and may not be usable in other systems.\n",
      "  write(\n"
     ]
    }
   ],
   "source": [
    "# Develop Mapping dictionaries that will be used in construction of coupled grok files\n",
    "dlhl_dict,hldl_dict,hnsdb_dict,dlhnsud_dict = cm.DevelopVerticalMapping(dssat_layers,hgs_layers)\n",
    "hncvdm_dict, dm_area_shp_dict = cm.DevelopHorizontalMapping(cv_shapefile_path,coupled_mod_mapping_dir)"
   ]
  },
  {
   "cell_type": "code",
   "execution_count": 8,
   "metadata": {},
   "outputs": [],
   "source": [
    "# Write out all mapping dicts to a pickle for the model controller\n",
    "cm.GenerateMappingPickle(coupled_mod_mapping_dir,dlhl_dict,hldl_dict,hnsdb_dict,dlhnsud_dict,hncvdm_dict,dm_area_shp_dict)"
   ]
  },
  {
   "cell_type": "markdown",
   "metadata": {},
   "source": [
    "## Build Coupled Model Dir"
   ]
  },
  {
   "cell_type": "code",
   "execution_count": 9,
   "metadata": {},
   "outputs": [
    {
     "name": "stdout",
     "output_type": "stream",
     "text": [
      "c:\\Users\\glogow0000\\HGS-DSSAT\\model\\coupled_v1 already exists\n",
      "c:\\Users\\glogow0000\\HGS-DSSAT\\model\\coupled_v1\\hgs already exists\n",
      "c:\\Users\\glogow0000\\HGS-DSSAT\\model\\coupled_v1\\dssat already exists\n",
      "c:\\Users\\glogow0000\\HGS-DSSAT\\model\\coupled_v1\\mapping already exists\n",
      "DSSAT48.INH\n",
      "DSSAT48.INH\n",
      "DSSAT48.INP\n",
      "DSSAT48.INP\n",
      "ET.OUT\n",
      "Evaluate.OUT\n",
      "GHG.OUT\n",
      "INFO.OUT\n",
      "Leaves.OUT\n",
      "LUN.LST\n",
      "LUN.LST\n",
      "Measured.OUT\n",
      "N2O.OUT\n",
      "OUTPUT.LST\n",
      "OUTPUT.LST\n",
      "OVERVIEW.OUT\n",
      "PlantGr2.OUT\n",
      "PlantGrf.OUT\n",
      "PlantGro.OUT\n",
      "PlantN.OUT\n",
      "Plantsum.OUT\n",
      "RunList.OUT\n",
      "SoilNBalSum.OUT\n",
      "SoilNi.OUT\n",
      "SoilNiBal.OUT\n",
      "SoilNoBal.OUT\n",
      "SoilTemp.OUT\n",
      "SoilWat.OUT\n",
      "SoilWatBal.OUT\n",
      "SoilWater.OUT\n",
      "Summary.OUT\n",
      "SWBalSum.OUT\n",
      "SWSW7501.WHA\n",
      "SWSW7501.WHA\n",
      "SWSW7501.WHT\n",
      "SWSW7501.WHT\n",
      "SWSW7501.WHX\n",
      "SWSW7501.WHX\n",
      "WARNING.OUT\n",
      "Weather.OUT\n"
     ]
    }
   ],
   "source": [
    "## Build Coupled Model\n",
    "coupled_mod_dir,coupled_mod_hgs_dir,coupled_mod_dssat_dir,coupled_mod_mapping_dir = mp.Build_Coupled_Model_Files(mod_dir,model_name,coupled_model_name,hgs_mod_dir,dssat_mod_dir,hnsdb_dict,dm_area_shp_dict)"
   ]
  },
  {
   "cell_type": "markdown",
   "metadata": {},
   "source": [
    "## Debug Exchange Funcs"
   ]
  },
  {
   "cell_type": "code",
   "execution_count": 10,
   "metadata": {},
   "outputs": [
    {
     "name": "stdout",
     "output_type": "stream",
     "text": [
      "[4, 5, 6, 7, 8, 9, 10, 11, 12, 13] [np.int64(1), np.int64(2), np.int64(3), np.int64(4), np.int64(5), np.int64(6), np.int64(7), np.int64(8), np.int64(9)]\n",
      "c:\\Users\\glogow0000\\HGS-DSSAT\\model\\coupled_v1\\dssat\\1\\ET.OUT\n",
      "     @YEAR  DOY  DAS  SRAA  TMAXA  TMINA  REFA   EOAA  EOPA   EOSA  ...  \\\n",
      "0     1975  132    1  23.6   11.0    5.0 -99.0  3.496   0.0  3.496  ...   \n",
      "1     1975  133    2  21.3   11.0    5.0 -99.0  3.226   0.0  3.226  ...   \n",
      "2     1975  134    3  29.3   11.0    5.0 -99.0  4.223   0.0  4.223  ...   \n",
      "3     1975  135    4  24.7   11.0    5.0 -99.0  3.668   0.0  3.668  ...   \n",
      "4     1975  136    5  17.7   11.0    5.0 -99.0  2.817   0.0  2.817  ...   \n",
      "..     ...  ...  ...   ...    ...    ...   ...    ...   ...    ...  ...   \n",
      "97    1975  229   98  11.4   17.0    4.0 -99.0  2.463   0.0  2.463  ...   \n",
      "98    1975  230   99  21.5   14.0    8.0 -99.0  3.363   0.0  3.363  ...   \n",
      "99    1975  231  100  18.8   15.0    9.0 -99.0  3.124   0.0  3.124  ...   \n",
      "100   1975  232  101  20.1   14.0   11.0 -99.0  3.282   0.0  3.282  ...   \n",
      "101   1975  233  102  25.2   24.0    8.0 -99.0  5.107   0.0  5.107  ...   \n",
      "\n",
      "      ES2D   ES3D   ES4D   ES5D   ES6D   ES7D   ES8D   ES9D  TRWUD  TWUPD  \n",
      "0    0.563  0.517  0.321  0.250  0.209  0.211  0.357  0.299    0.0    0.0  \n",
      "1    0.504  0.470  0.293  0.228  0.191  0.193  0.326  0.274    0.0    0.0  \n",
      "2    0.642  0.604  0.378  0.294  0.246  0.249  0.423  0.356    0.0    0.0  \n",
      "3    0.555  0.528  0.333  0.259  0.217  0.220  0.374  0.316    0.0    0.0  \n",
      "4    0.427  0.411  0.260  0.203  0.170  0.172  0.294  0.249    0.0    0.0  \n",
      "..     ...    ...    ...    ...    ...    ...    ...    ...    ...    ...  \n",
      "97   0.056  0.018  0.005  0.003  0.002  0.001  0.003  0.002    0.0    0.0  \n",
      "98   0.056  0.018  0.005  0.003  0.002  0.001  0.003  0.002    0.0    0.0  \n",
      "99   0.058  0.019  0.005  0.003  0.002  0.001  0.003  0.002    0.0    0.0  \n",
      "100  0.416  0.338  0.184  0.143  0.126  0.134  0.362  0.328    0.0    0.0  \n",
      "101  0.692  0.419  0.224  0.174  0.152  0.163  0.439  0.399    0.0    0.0  \n",
      "\n",
      "[102 rows x 35 columns]\n"
     ]
    },
    {
     "name": "stderr",
     "output_type": "stream",
     "text": [
      "C:\\Users\\glogow0000\\HGS-DSSAT\\codebase\\pyHGSDSSAT\\pyHGSDSSAT\\ModelInfoExchange.py:56: SyntaxWarning: invalid escape sequence '\\s'\n",
      "  et_df = pd.read_csv(etout_path, skiprows = 12, sep = '\\s+')\n",
      "C:\\Users\\glogow0000\\HGS-DSSAT\\codebase\\pyHGSDSSAT\\pyHGSDSSAT\\ModelInfoExchange.py:64: SyntaxWarning: invalid escape sequence '\\s'\n",
      "  rwu_df = pd.read_csv(rwu_path, names=headers, sep = '\\s+')\n"
     ]
    },
    {
     "ename": "FileNotFoundError",
     "evalue": "[Errno 2] No such file or directory: 'c:\\\\Users\\\\glogow0000\\\\HGS-DSSAT\\\\model\\\\coupled_v1\\\\dssat\\\\1\\\\data\\\\RWU.txt'",
     "output_type": "error",
     "traceback": [
      "\u001b[31m---------------------------------------------------------------------------\u001b[39m",
      "\u001b[31mFileNotFoundError\u001b[39m                         Traceback (most recent call last)",
      "\u001b[36mCell\u001b[39m\u001b[36m \u001b[39m\u001b[32mIn[10]\u001b[39m\u001b[32m, line 2\u001b[39m\n\u001b[32m      1\u001b[39m mapping = ie.ExposeMappingVariables(coupled_mod_dir)\n\u001b[32m----> \u001b[39m\u001b[32m2\u001b[39m \u001b[43mie\u001b[49m\u001b[43m.\u001b[49m\u001b[43mGenerateNodalFluxTimeValueTableDSSATET\u001b[49m\u001b[43m(\u001b[49m\u001b[43mmapping\u001b[49m\u001b[43m,\u001b[49m\u001b[32;43m1\u001b[39;49m\u001b[43m,\u001b[49m\u001b[43mcoupled_mod_hgs_dir\u001b[49m\u001b[43m,\u001b[49m\u001b[43mcoupled_mod_dssat_dir\u001b[49m\u001b[43m)\u001b[49m\n",
      "\u001b[36mFile \u001b[39m\u001b[32m~\\HGS-DSSAT\\codebase\\pyHGSDSSAT\\pyHGSDSSAT\\ModelInfoExchange.py:64\u001b[39m, in \u001b[36mGenerateNodalFluxTimeValueTableDSSATET\u001b[39m\u001b[34m(mapping, day, coupled_mod_hgs_dir, coupled_mod_dssat_dir)\u001b[39m\n\u001b[32m     62\u001b[39m \u001b[38;5;28;01mfor\u001b[39;00m n \u001b[38;5;129;01min\u001b[39;00m np.arange(\u001b[32m1\u001b[39m,\u001b[32m21\u001b[39m):\n\u001b[32m     63\u001b[39m     headers.append(\u001b[38;5;28mstr\u001b[39m(n))\n\u001b[32m---> \u001b[39m\u001b[32m64\u001b[39m rwu_df = \u001b[43mpd\u001b[49m\u001b[43m.\u001b[49m\u001b[43mread_csv\u001b[49m\u001b[43m(\u001b[49m\u001b[43mrwu_path\u001b[49m\u001b[43m,\u001b[49m\u001b[43m \u001b[49m\u001b[43mnames\u001b[49m\u001b[43m=\u001b[49m\u001b[43mheaders\u001b[49m\u001b[43m,\u001b[49m\u001b[43m \u001b[49m\u001b[43msep\u001b[49m\u001b[43m \u001b[49m\u001b[43m=\u001b[49m\u001b[43m \u001b[49m\u001b[33;43m'\u001b[39;49m\u001b[33;43m\\\u001b[39;49m\u001b[33;43ms+\u001b[39;49m\u001b[33;43m'\u001b[39;49m\u001b[43m)\u001b[49m\n\u001b[32m     65\u001b[39m \u001b[38;5;28mprint\u001b[39m(rwu_df)\n\u001b[32m     66\u001b[39m \u001b[38;5;66;03m# Iterate through DSSAT Model Layers\u001b[39;00m\n",
      "\u001b[36mFile \u001b[39m\u001b[32m~\\AppData\\Local\\Packages\\PythonSoftwareFoundation.Python.3.13_qbz5n2kfra8p0\\LocalCache\\local-packages\\Python313\\site-packages\\pandas\\io\\parsers\\readers.py:1026\u001b[39m, in \u001b[36mread_csv\u001b[39m\u001b[34m(filepath_or_buffer, sep, delimiter, header, names, index_col, usecols, dtype, engine, converters, true_values, false_values, skipinitialspace, skiprows, skipfooter, nrows, na_values, keep_default_na, na_filter, verbose, skip_blank_lines, parse_dates, infer_datetime_format, keep_date_col, date_parser, date_format, dayfirst, cache_dates, iterator, chunksize, compression, thousands, decimal, lineterminator, quotechar, quoting, doublequote, escapechar, comment, encoding, encoding_errors, dialect, on_bad_lines, delim_whitespace, low_memory, memory_map, float_precision, storage_options, dtype_backend)\u001b[39m\n\u001b[32m   1013\u001b[39m kwds_defaults = _refine_defaults_read(\n\u001b[32m   1014\u001b[39m     dialect,\n\u001b[32m   1015\u001b[39m     delimiter,\n\u001b[32m   (...)\u001b[39m\u001b[32m   1022\u001b[39m     dtype_backend=dtype_backend,\n\u001b[32m   1023\u001b[39m )\n\u001b[32m   1024\u001b[39m kwds.update(kwds_defaults)\n\u001b[32m-> \u001b[39m\u001b[32m1026\u001b[39m \u001b[38;5;28;01mreturn\u001b[39;00m \u001b[43m_read\u001b[49m\u001b[43m(\u001b[49m\u001b[43mfilepath_or_buffer\u001b[49m\u001b[43m,\u001b[49m\u001b[43m \u001b[49m\u001b[43mkwds\u001b[49m\u001b[43m)\u001b[49m\n",
      "\u001b[36mFile \u001b[39m\u001b[32m~\\AppData\\Local\\Packages\\PythonSoftwareFoundation.Python.3.13_qbz5n2kfra8p0\\LocalCache\\local-packages\\Python313\\site-packages\\pandas\\io\\parsers\\readers.py:620\u001b[39m, in \u001b[36m_read\u001b[39m\u001b[34m(filepath_or_buffer, kwds)\u001b[39m\n\u001b[32m    617\u001b[39m _validate_names(kwds.get(\u001b[33m\"\u001b[39m\u001b[33mnames\u001b[39m\u001b[33m\"\u001b[39m, \u001b[38;5;28;01mNone\u001b[39;00m))\n\u001b[32m    619\u001b[39m \u001b[38;5;66;03m# Create the parser.\u001b[39;00m\n\u001b[32m--> \u001b[39m\u001b[32m620\u001b[39m parser = \u001b[43mTextFileReader\u001b[49m\u001b[43m(\u001b[49m\u001b[43mfilepath_or_buffer\u001b[49m\u001b[43m,\u001b[49m\u001b[43m \u001b[49m\u001b[43m*\u001b[49m\u001b[43m*\u001b[49m\u001b[43mkwds\u001b[49m\u001b[43m)\u001b[49m\n\u001b[32m    622\u001b[39m \u001b[38;5;28;01mif\u001b[39;00m chunksize \u001b[38;5;129;01mor\u001b[39;00m iterator:\n\u001b[32m    623\u001b[39m     \u001b[38;5;28;01mreturn\u001b[39;00m parser\n",
      "\u001b[36mFile \u001b[39m\u001b[32m~\\AppData\\Local\\Packages\\PythonSoftwareFoundation.Python.3.13_qbz5n2kfra8p0\\LocalCache\\local-packages\\Python313\\site-packages\\pandas\\io\\parsers\\readers.py:1620\u001b[39m, in \u001b[36mTextFileReader.__init__\u001b[39m\u001b[34m(self, f, engine, **kwds)\u001b[39m\n\u001b[32m   1617\u001b[39m     \u001b[38;5;28mself\u001b[39m.options[\u001b[33m\"\u001b[39m\u001b[33mhas_index_names\u001b[39m\u001b[33m\"\u001b[39m] = kwds[\u001b[33m\"\u001b[39m\u001b[33mhas_index_names\u001b[39m\u001b[33m\"\u001b[39m]\n\u001b[32m   1619\u001b[39m \u001b[38;5;28mself\u001b[39m.handles: IOHandles | \u001b[38;5;28;01mNone\u001b[39;00m = \u001b[38;5;28;01mNone\u001b[39;00m\n\u001b[32m-> \u001b[39m\u001b[32m1620\u001b[39m \u001b[38;5;28mself\u001b[39m._engine = \u001b[38;5;28;43mself\u001b[39;49m\u001b[43m.\u001b[49m\u001b[43m_make_engine\u001b[49m\u001b[43m(\u001b[49m\u001b[43mf\u001b[49m\u001b[43m,\u001b[49m\u001b[43m \u001b[49m\u001b[38;5;28;43mself\u001b[39;49m\u001b[43m.\u001b[49m\u001b[43mengine\u001b[49m\u001b[43m)\u001b[49m\n",
      "\u001b[36mFile \u001b[39m\u001b[32m~\\AppData\\Local\\Packages\\PythonSoftwareFoundation.Python.3.13_qbz5n2kfra8p0\\LocalCache\\local-packages\\Python313\\site-packages\\pandas\\io\\parsers\\readers.py:1880\u001b[39m, in \u001b[36mTextFileReader._make_engine\u001b[39m\u001b[34m(self, f, engine)\u001b[39m\n\u001b[32m   1878\u001b[39m     \u001b[38;5;28;01mif\u001b[39;00m \u001b[33m\"\u001b[39m\u001b[33mb\u001b[39m\u001b[33m\"\u001b[39m \u001b[38;5;129;01mnot\u001b[39;00m \u001b[38;5;129;01min\u001b[39;00m mode:\n\u001b[32m   1879\u001b[39m         mode += \u001b[33m\"\u001b[39m\u001b[33mb\u001b[39m\u001b[33m\"\u001b[39m\n\u001b[32m-> \u001b[39m\u001b[32m1880\u001b[39m \u001b[38;5;28mself\u001b[39m.handles = \u001b[43mget_handle\u001b[49m\u001b[43m(\u001b[49m\n\u001b[32m   1881\u001b[39m \u001b[43m    \u001b[49m\u001b[43mf\u001b[49m\u001b[43m,\u001b[49m\n\u001b[32m   1882\u001b[39m \u001b[43m    \u001b[49m\u001b[43mmode\u001b[49m\u001b[43m,\u001b[49m\n\u001b[32m   1883\u001b[39m \u001b[43m    \u001b[49m\u001b[43mencoding\u001b[49m\u001b[43m=\u001b[49m\u001b[38;5;28;43mself\u001b[39;49m\u001b[43m.\u001b[49m\u001b[43moptions\u001b[49m\u001b[43m.\u001b[49m\u001b[43mget\u001b[49m\u001b[43m(\u001b[49m\u001b[33;43m\"\u001b[39;49m\u001b[33;43mencoding\u001b[39;49m\u001b[33;43m\"\u001b[39;49m\u001b[43m,\u001b[49m\u001b[43m \u001b[49m\u001b[38;5;28;43;01mNone\u001b[39;49;00m\u001b[43m)\u001b[49m\u001b[43m,\u001b[49m\n\u001b[32m   1884\u001b[39m \u001b[43m    \u001b[49m\u001b[43mcompression\u001b[49m\u001b[43m=\u001b[49m\u001b[38;5;28;43mself\u001b[39;49m\u001b[43m.\u001b[49m\u001b[43moptions\u001b[49m\u001b[43m.\u001b[49m\u001b[43mget\u001b[49m\u001b[43m(\u001b[49m\u001b[33;43m\"\u001b[39;49m\u001b[33;43mcompression\u001b[39;49m\u001b[33;43m\"\u001b[39;49m\u001b[43m,\u001b[49m\u001b[43m \u001b[49m\u001b[38;5;28;43;01mNone\u001b[39;49;00m\u001b[43m)\u001b[49m\u001b[43m,\u001b[49m\n\u001b[32m   1885\u001b[39m \u001b[43m    \u001b[49m\u001b[43mmemory_map\u001b[49m\u001b[43m=\u001b[49m\u001b[38;5;28;43mself\u001b[39;49m\u001b[43m.\u001b[49m\u001b[43moptions\u001b[49m\u001b[43m.\u001b[49m\u001b[43mget\u001b[49m\u001b[43m(\u001b[49m\u001b[33;43m\"\u001b[39;49m\u001b[33;43mmemory_map\u001b[39;49m\u001b[33;43m\"\u001b[39;49m\u001b[43m,\u001b[49m\u001b[43m \u001b[49m\u001b[38;5;28;43;01mFalse\u001b[39;49;00m\u001b[43m)\u001b[49m\u001b[43m,\u001b[49m\n\u001b[32m   1886\u001b[39m \u001b[43m    \u001b[49m\u001b[43mis_text\u001b[49m\u001b[43m=\u001b[49m\u001b[43mis_text\u001b[49m\u001b[43m,\u001b[49m\n\u001b[32m   1887\u001b[39m \u001b[43m    \u001b[49m\u001b[43merrors\u001b[49m\u001b[43m=\u001b[49m\u001b[38;5;28;43mself\u001b[39;49m\u001b[43m.\u001b[49m\u001b[43moptions\u001b[49m\u001b[43m.\u001b[49m\u001b[43mget\u001b[49m\u001b[43m(\u001b[49m\u001b[33;43m\"\u001b[39;49m\u001b[33;43mencoding_errors\u001b[39;49m\u001b[33;43m\"\u001b[39;49m\u001b[43m,\u001b[49m\u001b[43m \u001b[49m\u001b[33;43m\"\u001b[39;49m\u001b[33;43mstrict\u001b[39;49m\u001b[33;43m\"\u001b[39;49m\u001b[43m)\u001b[49m\u001b[43m,\u001b[49m\n\u001b[32m   1888\u001b[39m \u001b[43m    \u001b[49m\u001b[43mstorage_options\u001b[49m\u001b[43m=\u001b[49m\u001b[38;5;28;43mself\u001b[39;49m\u001b[43m.\u001b[49m\u001b[43moptions\u001b[49m\u001b[43m.\u001b[49m\u001b[43mget\u001b[49m\u001b[43m(\u001b[49m\u001b[33;43m\"\u001b[39;49m\u001b[33;43mstorage_options\u001b[39;49m\u001b[33;43m\"\u001b[39;49m\u001b[43m,\u001b[49m\u001b[43m \u001b[49m\u001b[38;5;28;43;01mNone\u001b[39;49;00m\u001b[43m)\u001b[49m\u001b[43m,\u001b[49m\n\u001b[32m   1889\u001b[39m \u001b[43m\u001b[49m\u001b[43m)\u001b[49m\n\u001b[32m   1890\u001b[39m \u001b[38;5;28;01massert\u001b[39;00m \u001b[38;5;28mself\u001b[39m.handles \u001b[38;5;129;01mis\u001b[39;00m \u001b[38;5;129;01mnot\u001b[39;00m \u001b[38;5;28;01mNone\u001b[39;00m\n\u001b[32m   1891\u001b[39m f = \u001b[38;5;28mself\u001b[39m.handles.handle\n",
      "\u001b[36mFile \u001b[39m\u001b[32m~\\AppData\\Local\\Packages\\PythonSoftwareFoundation.Python.3.13_qbz5n2kfra8p0\\LocalCache\\local-packages\\Python313\\site-packages\\pandas\\io\\common.py:873\u001b[39m, in \u001b[36mget_handle\u001b[39m\u001b[34m(path_or_buf, mode, encoding, compression, memory_map, is_text, errors, storage_options)\u001b[39m\n\u001b[32m    868\u001b[39m \u001b[38;5;28;01melif\u001b[39;00m \u001b[38;5;28misinstance\u001b[39m(handle, \u001b[38;5;28mstr\u001b[39m):\n\u001b[32m    869\u001b[39m     \u001b[38;5;66;03m# Check whether the filename is to be opened in binary mode.\u001b[39;00m\n\u001b[32m    870\u001b[39m     \u001b[38;5;66;03m# Binary mode does not support 'encoding' and 'newline'.\u001b[39;00m\n\u001b[32m    871\u001b[39m     \u001b[38;5;28;01mif\u001b[39;00m ioargs.encoding \u001b[38;5;129;01mand\u001b[39;00m \u001b[33m\"\u001b[39m\u001b[33mb\u001b[39m\u001b[33m\"\u001b[39m \u001b[38;5;129;01mnot\u001b[39;00m \u001b[38;5;129;01min\u001b[39;00m ioargs.mode:\n\u001b[32m    872\u001b[39m         \u001b[38;5;66;03m# Encoding\u001b[39;00m\n\u001b[32m--> \u001b[39m\u001b[32m873\u001b[39m         handle = \u001b[38;5;28;43mopen\u001b[39;49m\u001b[43m(\u001b[49m\n\u001b[32m    874\u001b[39m \u001b[43m            \u001b[49m\u001b[43mhandle\u001b[49m\u001b[43m,\u001b[49m\n\u001b[32m    875\u001b[39m \u001b[43m            \u001b[49m\u001b[43mioargs\u001b[49m\u001b[43m.\u001b[49m\u001b[43mmode\u001b[49m\u001b[43m,\u001b[49m\n\u001b[32m    876\u001b[39m \u001b[43m            \u001b[49m\u001b[43mencoding\u001b[49m\u001b[43m=\u001b[49m\u001b[43mioargs\u001b[49m\u001b[43m.\u001b[49m\u001b[43mencoding\u001b[49m\u001b[43m,\u001b[49m\n\u001b[32m    877\u001b[39m \u001b[43m            \u001b[49m\u001b[43merrors\u001b[49m\u001b[43m=\u001b[49m\u001b[43merrors\u001b[49m\u001b[43m,\u001b[49m\n\u001b[32m    878\u001b[39m \u001b[43m            \u001b[49m\u001b[43mnewline\u001b[49m\u001b[43m=\u001b[49m\u001b[33;43m\"\u001b[39;49m\u001b[33;43m\"\u001b[39;49m\u001b[43m,\u001b[49m\n\u001b[32m    879\u001b[39m \u001b[43m        \u001b[49m\u001b[43m)\u001b[49m\n\u001b[32m    880\u001b[39m     \u001b[38;5;28;01melse\u001b[39;00m:\n\u001b[32m    881\u001b[39m         \u001b[38;5;66;03m# Binary mode\u001b[39;00m\n\u001b[32m    882\u001b[39m         handle = \u001b[38;5;28mopen\u001b[39m(handle, ioargs.mode)\n",
      "\u001b[31mFileNotFoundError\u001b[39m: [Errno 2] No such file or directory: 'c:\\\\Users\\\\glogow0000\\\\HGS-DSSAT\\\\model\\\\coupled_v1\\\\dssat\\\\1\\\\data\\\\RWU.txt'"
     ]
    }
   ],
   "source": [
    "mapping = ie.ExposeMappingVariables(coupled_mod_dir)\n",
    "ie.GenerateNodalFluxTimeValueTableDSSATET(mapping,1,coupled_mod_hgs_dir,coupled_mod_dssat_dir)"
   ]
  },
  {
   "cell_type": "code",
   "execution_count": null,
   "metadata": {},
   "outputs": [],
   "source": [
    "ie.GenerateDSSATDailyDRNHGSNodalFlux(mapping,0,model_name,coupled_mod_hgs_dir,coupled_mod_dssat_dir)"
   ]
  },
  {
   "cell_type": "code",
   "execution_count": null,
   "metadata": {},
   "outputs": [],
   "source": []
  }
 ],
 "metadata": {
  "kernelspec": {
   "display_name": "Python 3",
   "language": "python",
   "name": "python3"
  },
  "language_info": {
   "codemirror_mode": {
    "name": "ipython",
    "version": 3
   },
   "file_extension": ".py",
   "mimetype": "text/x-python",
   "name": "python",
   "nbconvert_exporter": "python",
   "pygments_lexer": "ipython3",
   "version": "3.13.7"
  }
 },
 "nbformat": 4,
 "nbformat_minor": 4
}
