{
 "cells": [
  {
   "cell_type": "code",
   "execution_count": 7,
   "metadata": {},
   "outputs": [],
   "source": [
    "import os\n",
    "import pyHGSDSSAT.ModelPrep as mp\n",
    "import pyHGSDSSAT.CreateMapping as cm"
   ]
  },
  {
   "cell_type": "markdown",
   "metadata": {},
   "source": [
    "## Locations, Parameters, Names"
   ]
  },
  {
   "cell_type": "code",
   "execution_count": 8,
   "metadata": {},
   "outputs": [],
   "source": [
    "## Main Directory Names Block\n",
    "# Model directory name (here assumed cwd)\n",
    "mod_dir = os.getcwd()\n",
    "# Path to standalone hgs model directory\n",
    "hgs_mod_dir = os.path.join(mod_dir,r'HGS\\stand_alone\\lys\\hgs')\n",
    "# Path to standalone dssat model directory\n",
    "dssat_mod_dir = os.path.join(mod_dir,r'DSSAT\\Vanilla\\wheat')\n",
    "# Name of standalone model file - everything that precedes .grok\n",
    "model_name = 'lys_e'\n",
    "# Coupled model name - name of coupled model instance\n",
    "coupled_model_name = 'coupled_v1'"
   ]
  },
  {
   "cell_type": "code",
   "execution_count": 9,
   "metadata": {},
   "outputs": [],
   "source": [
    "# Model Geometric Info Block\n",
    "# Number of Layers in Each Model\n",
    "dssat_layers = 9\n",
    "hgs_layers = 12"
   ]
  },
  {
   "cell_type": "markdown",
   "metadata": {},
   "source": [
    "## Build Coupled Model Mapping"
   ]
  },
  {
   "cell_type": "code",
   "execution_count": 10,
   "metadata": {},
   "outputs": [],
   "source": [
    "# Create model directories so that there is a mapping dir\n",
    "coupled_mod_dir,coupled_mod_hgs_dir,coupled_mod_dssat_dir,coupled_mod_mapping_dir = mp.Create_Coupled_Model_Dir(mod_dir,coupled_model_name)"
   ]
  },
  {
   "cell_type": "code",
   "execution_count": 11,
   "metadata": {},
   "outputs": [
    {
     "name": "stdout",
     "output_type": "stream",
     "text": [
      "x dim is 3\n",
      "[0.0, 1.0, 2.0]\n",
      "y dim is 3\n",
      "[0.0, 1.0, 2.0]\n"
     ]
    }
   ],
   "source": [
    "# Generate shapefiles that will be used to set up coupled model mapping\n",
    "node_shapefile_path,cv_shapefile_path = cm.GenerateMappingShapefiles(coupled_mod_hgs_dir,\n",
    "                                                                     coupled_mod_mapping_dir,\n",
    "                                                                     model_name)"
   ]
  },
  {
   "cell_type": "code",
   "execution_count": 12,
   "metadata": {},
   "outputs": [],
   "source": [
    "# AT THIS POINT USER SHOULD OPEN SHAPEFILES AND ASSIGN DSSAT MODEL IDS TO EACH CONTROL VOLUME"
   ]
  },
  {
   "cell_type": "code",
   "execution_count": 14,
   "metadata": {},
   "outputs": [
    {
     "name": "stdout",
     "output_type": "stream",
     "text": [
      "   node_id  dssat_id  area                                           geometry\n",
      "0        1         1  0.25  POLYGON ((0.00000 0.00000, 0.00000 0.50000, 0....\n",
      "1        2         2  0.50  POLYGON ((0.50000 0.00000, 0.50000 0.50000, 1....\n",
      "2        3         1  0.25  POLYGON ((1.50000 0.00000, 1.50000 0.50000, 2....\n",
      "3        4         1  0.50  POLYGON ((0.00000 0.50000, 0.00000 1.50000, 0....\n",
      "4        5         1  1.00  POLYGON ((0.50000 0.50000, 0.50000 1.50000, 1....\n",
      "5        6         1  0.50  POLYGON ((1.50000 0.50000, 1.50000 1.50000, 2....\n",
      "6        7         1  0.25  POLYGON ((0.00000 1.50000, 0.00000 2.00000, 0....\n",
      "7        8         1  0.50  POLYGON ((0.50000 1.50000, 0.50000 2.00000, 1....\n",
      "8        9         1  0.25  POLYGON ((1.50000 1.50000, 1.50000 2.00000, 2....\n"
     ]
    }
   ],
   "source": [
    "# Develop Mapping dictionaries that will be used in construction of coupled grok files\n",
    "dlhl_dict,hldl_dict,hnsdb_dict,dlhnsud_dict = cm.DevelopVerticalMapping(dssat_layers,hgs_layers)\n",
    "hncvdm_dict, dm_area_shp_dict = cm.DevelopHorizontalMapping(cv_shapefile_path,coupled_mod_mapping_dir)"
   ]
  },
  {
   "cell_type": "code",
   "execution_count": 15,
   "metadata": {},
   "outputs": [],
   "source": [
    "# Write out all mapping dicts to a pickle for the model controller\n",
    "cm.GenerateMappingPickle(coupled_mod_mapping_dir,dlhl_dict,hldl_dict,hnsdb_dict,dlhnsud_dict,hncvdm_dict,dm_area_shp_dict)"
   ]
  },
  {
   "cell_type": "markdown",
   "metadata": {},
   "source": [
    "## Build Coupled Model Dir"
   ]
  },
  {
   "cell_type": "code",
   "execution_count": 16,
   "metadata": {},
   "outputs": [
    {
     "name": "stdout",
     "output_type": "stream",
     "text": [
      "c:\\Users\\southa0000\\Documents\\HGS_DSSAT_Devel\\HGS-DSSAT\\model\\coupled_v1 already exists\n",
      "c:\\Users\\southa0000\\Documents\\HGS_DSSAT_Devel\\HGS-DSSAT\\model\\coupled_v1\\hgs already exists\n",
      "c:\\Users\\southa0000\\Documents\\HGS_DSSAT_Devel\\HGS-DSSAT\\model\\coupled_v1\\dssat already exists\n",
      "c:\\Users\\southa0000\\Documents\\HGS_DSSAT_Devel\\HGS-DSSAT\\model\\coupled_v1\\mapping already exists\n",
      "DSSAT48.INH\n",
      "DSSAT48.INH\n",
      "DSSAT48.INP\n",
      "DSSAT48.INP\n",
      "ET.OUT\n",
      "GHG.OUT\n",
      "INFO.OUT\n",
      "Leaves.OUT\n",
      "LUN.LST\n",
      "LUN.LST\n",
      "Measured.OUT\n",
      "N2O.OUT\n",
      "OUTPUT.LST\n",
      "OUTPUT.LST\n",
      "RunList.OUT\n",
      "SoilNBalSum.OUT\n",
      "SoilNi.OUT\n",
      "SoilNiBal.OUT\n",
      "SoilNoBal.OUT\n",
      "SoilTemp.OUT\n",
      "SoilWat.OUT\n",
      "SoilWatBal.OUT\n",
      "SoilWater.OUT\n",
      "SWBalSum.OUT\n",
      "SWSW7501.WHA\n",
      "SWSW7501.WHA\n",
      "SWSW7501.WHT\n",
      "SWSW7501.WHT\n",
      "SWSW7501.WHX\n",
      "SWSW7501.WHX\n",
      "WARNING.OUT\n",
      "Weather.OUT\n",
      "DSSAT48.INH\n",
      "DSSAT48.INH\n",
      "DSSAT48.INP\n",
      "DSSAT48.INP\n",
      "ET.OUT\n",
      "GHG.OUT\n",
      "INFO.OUT\n",
      "Leaves.OUT\n",
      "LUN.LST\n",
      "LUN.LST\n",
      "Measured.OUT\n",
      "N2O.OUT\n",
      "OUTPUT.LST\n",
      "OUTPUT.LST\n",
      "RunList.OUT\n",
      "SoilNBalSum.OUT\n",
      "SoilNi.OUT\n",
      "SoilNiBal.OUT\n",
      "SoilNoBal.OUT\n",
      "SoilTemp.OUT\n",
      "SoilWat.OUT\n",
      "SoilWatBal.OUT\n",
      "SoilWater.OUT\n",
      "SWBalSum.OUT\n",
      "SWSW7501.WHA\n",
      "SWSW7501.WHA\n",
      "SWSW7501.WHT\n",
      "SWSW7501.WHT\n",
      "SWSW7501.WHX\n",
      "SWSW7501.WHX\n",
      "WARNING.OUT\n",
      "Weather.OUT\n"
     ]
    }
   ],
   "source": [
    "## Build Coupled Model\n",
    "coupled_mod_dir,coupled_mod_hgs_dir,coupled_mod_dssat_dir,coupled_mod_mapping_dir = mp.Build_Coupled_Model_Files(mod_dir,model_name,coupled_model_name,hgs_mod_dir,dssat_mod_dir,hnsdb_dict,dm_area_shp_dict)"
   ]
  },
  {
   "cell_type": "code",
   "execution_count": null,
   "metadata": {},
   "outputs": [],
   "source": []
  }
 ],
 "metadata": {
  "kernelspec": {
   "display_name": "base",
   "language": "python",
   "name": "python3"
  },
  "language_info": {
   "codemirror_mode": {
    "name": "ipython",
    "version": 3
   },
   "file_extension": ".py",
   "mimetype": "text/x-python",
   "name": "python",
   "nbconvert_exporter": "python",
   "pygments_lexer": "ipython3",
   "version": "3.11.5"
  }
 },
 "nbformat": 4,
 "nbformat_minor": 2
}
