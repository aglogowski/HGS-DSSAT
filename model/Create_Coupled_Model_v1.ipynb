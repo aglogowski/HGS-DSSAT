{
 "cells": [
  {
   "cell_type": "code",
   "execution_count": 1,
   "metadata": {},
   "outputs": [],
   "source": [
    "import os\n",
    "import numpy as np\n",
    "import subprocess as sp\n",
    "import pickle as pkl\n",
    "import pandas as pd\n",
    "import shutil\n",
    "import pyHGSDSSAT.ModelPrep as mp"
   ]
  },
  {
   "cell_type": "markdown",
   "metadata": {},
   "source": [
    "## Locations, Parameters, Names"
   ]
  },
  {
   "cell_type": "code",
   "execution_count": 2,
   "metadata": {},
   "outputs": [],
   "source": [
    "## Main Directory Names Block\n",
    "# Model directory name (here assumed cwd)\n",
    "mod_dir = os.getcwd()\n",
    "# Path to standalone hgs model directory\n",
    "hgs_mod_dir = os.path.join(mod_dir,r'HGS\\stand_alone\\lys\\hgs')\n",
    "# Path to standalone dssat model directory\n",
    "dssat_mod_dir = ''\n",
    "# Name of standalone model file - everything that precedes .grok\n",
    "model_name = 'lys_e'\n",
    "# Coupled model name - name of coupled model instance\n",
    "coupled_model_name = 'coupled_v1'"
   ]
  },
  {
   "cell_type": "markdown",
   "metadata": {},
   "source": [
    "## Build Coupled Model Dir"
   ]
  },
  {
   "cell_type": "code",
   "execution_count": 3,
   "metadata": {},
   "outputs": [
    {
     "name": "stdout",
     "output_type": "stream",
     "text": [
      "c:\\Users\\southa0000\\Documents\\HGS_DSSAT_Devel\\HGS-DSSAT\\model\\coupled_v1 already exists\n",
      "c:\\Users\\southa0000\\Documents\\HGS_DSSAT_Devel\\HGS-DSSAT\\model\\coupled_v1\\hgs already exists\n",
      "c:\\Users\\southa0000\\Documents\\HGS_DSSAT_Devel\\HGS-DSSAT\\model\\coupled_v1\\dssat already exists\n"
     ]
    }
   ],
   "source": [
    "## Build Coupled Model\n",
    "mp.Build_Coupled_Model_Files(mod_dir,model_name,coupled_model_name,hgs_mod_dir,dssat_mod_dir)"
   ]
  },
  {
   "cell_type": "code",
   "execution_count": null,
   "metadata": {},
   "outputs": [],
   "source": []
  },
  {
   "cell_type": "code",
   "execution_count": null,
   "metadata": {},
   "outputs": [],
   "source": []
  }
 ],
 "metadata": {
  "kernelspec": {
   "display_name": "base",
   "language": "python",
   "name": "python3"
  },
  "language_info": {
   "codemirror_mode": {
    "name": "ipython",
    "version": 3
   },
   "file_extension": ".py",
   "mimetype": "text/x-python",
   "name": "python",
   "nbconvert_exporter": "python",
   "pygments_lexer": "ipython3",
   "version": "3.11.5"
  }
 },
 "nbformat": 4,
 "nbformat_minor": 2
}
